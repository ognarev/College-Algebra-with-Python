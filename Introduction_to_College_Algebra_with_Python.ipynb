{
  "nbformat": 4,
  "nbformat_minor": 0,
  "metadata": {
    "colab": {
      "provenance": [],
      "authorship_tag": "ABX9TyNkQ0qE0hm45VDDpuLklhh1",
      "include_colab_link": true
    },
    "kernelspec": {
      "name": "python3",
      "display_name": "Python 3"
    },
    "language_info": {
      "name": "python"
    }
  },
  "cells": [
    {
      "cell_type": "markdown",
      "metadata": {
        "id": "view-in-github",
        "colab_type": "text"
      },
      "source": [
        "<a href=\"https://colab.research.google.com/github/ognarev/College-Algebra-with-Python/blob/main/Introduction_to_College_Algebra_with_Python.ipynb\" target=\"_parent\"><img src=\"https://colab.research.google.com/assets/colab-badge.svg\" alt=\"Open In Colab\"/></a>"
      ]
    },
    {
      "cell_type": "markdown",
      "source": [
        "# Setup a proportion \n",
        "$\\frac{n1}{d1} = \\frac{n2}{d2}$"
      ],
      "metadata": {
        "id": "kcS0919qDMmM"
      }
    },
    {
      "cell_type": "code",
      "source": [
        "# Put a zero in for the unknown value\n",
        "\n",
        "n1 = 1\n",
        "d1 = 0\n",
        "n2 = 16\n",
        "d2 = 0\n",
        "\n",
        "if n2==0:\n",
        "    answer = d2 * n1 / d1\n",
        "    print(\"n2 = \", answer)\n",
        "\n",
        "if d2==0:\n",
        "    answer = n2 * d1 / n1\n",
        "    print(\"d2 = \", answer)\n"
      ],
      "metadata": {
        "id": "ryFlJrIJFw7J",
        "colab": {
          "base_uri": "https://localhost:8080/"
        },
        "outputId": "bac56ab4-aef8-4ca1-9715-4dacafbc5396"
      },
      "execution_count": 7,
      "outputs": [
        {
          "output_type": "stream",
          "name": "stdout",
          "text": [
            "d2 =  0.0\n"
          ]
        }
      ]
    }
  ]
}