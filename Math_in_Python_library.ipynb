{
 "cells": [
  {
   "cell_type": "markdown",
   "id": "2da767e9",
   "metadata": {},
   "source": [
    "# Math in Python references"
   ]
  },
  {
   "cell_type": "markdown",
   "id": "edfbbeb4",
   "metadata": {},
   "source": [
    "## Fractions\n",
    "\n",
    "$\\frac{n1}{d1} = \\frac{n2}{d2}$"
   ]
  },
  {
   "cell_type": "code",
   "execution_count": null,
   "id": "7438961c",
   "metadata": {},
   "outputs": [],
   "source": [
    "# Put a zero in for the unknown value\n",
    "\n",
    "n1 = 1\n",
    "d1 = 0\n",
    "n2 = 16\n",
    "d2 = 0\n",
    "\n",
    "if n2==0:\n",
    "    answer = d2 * n1 / d1\n",
    "    print(\"n2 = \", answer)\n",
    "\n",
    "if d2==0:\n",
    "    answer = n2 * d1 / n1\n",
    "    print(\"d2 = \", answer)\n"
   ]
  },
  {
   "cell_type": "markdown",
   "id": "0d1d3447",
   "metadata": {},
   "source": [
    "## Functions\n",
    "\n",
    "Add code to your algebra Colab notebook that creates Python functions for decimal-to-fraction conversions"
   ]
  },
  {
   "cell_type": "code",
   "execution_count": 26,
   "id": "7c843b05",
   "metadata": {
    "scrolled": true
   },
   "outputs": [
    {
     "name": "stdout",
     "output_type": "stream",
     "text": [
      "810/1000\n"
     ]
    }
   ],
   "source": [
    "def f(x):\n",
    "    exponent = int(len(x))-1\n",
    "    n = float(x)\n",
    "    numerator = str(int(n * 10**exponent))\n",
    "    denumerator = str(10**exponent)\n",
    "    fraction = (numerator + \"/\" + denumerator)\n",
    "    return fraction\n",
    "\n",
    "print(f(\".810\"))"
   ]
  },
  {
   "cell_type": "code",
   "execution_count": null,
   "id": "6e1c2274",
   "metadata": {},
   "outputs": [],
   "source": []
  }
 ],
 "metadata": {
  "kernelspec": {
   "display_name": "Python 3 (ipykernel)",
   "language": "python",
   "name": "python3"
  },
  "language_info": {
   "codemirror_mode": {
    "name": "ipython",
    "version": 3
   },
   "file_extension": ".py",
   "mimetype": "text/x-python",
   "name": "python",
   "nbconvert_exporter": "python",
   "pygments_lexer": "ipython3",
   "version": "3.11.3"
  }
 },
 "nbformat": 4,
 "nbformat_minor": 5
}
