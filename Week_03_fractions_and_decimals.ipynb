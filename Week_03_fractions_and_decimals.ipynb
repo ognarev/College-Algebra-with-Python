{
 "cells": [
  {
   "cell_type": "code",
   "execution_count": 1,
   "id": "c95607e5",
   "metadata": {},
   "outputs": [
    {
     "name": "stdout",
     "output_type": "stream",
     "text": [
      "Enter a decimal number to convert: .123\n",
      "The decimal is  0.123\n",
      "The fraction is  123 / 1000\n",
      "The percent is  12.3  %\n"
     ]
    }
   ],
   "source": [
    "# Get string input, which will include a decimal point\n",
    "digits = input(\"Enter a decimal number to convert: \")\n",
    "\n",
    "# Get number of decimal places as an integer\n",
    "exponent = int(len(digits))-1\n",
    "\n",
    "# Convert the input to a float number\n",
    "n = float(digits)\n",
    "\n",
    "# Use the exponent to get the numerator\n",
    "numerator = int(n * 10**exponent)\n",
    "\n",
    "# Use the expoent to get the denominator\n",
    "denominator = 10**exponent\n",
    "\n",
    "# percent is the first two decimal places\n",
    "percent = n * 100\n",
    "\n",
    "# Output\n",
    "print(\"The decimal is \", n)\n",
    "print(\"The fraction is \", numerator, \"/\", denominator)\n",
    "print(\"The percent is \", percent, \" %\")"
   ]
  },
  {
   "cell_type": "code",
   "execution_count": null,
   "id": "8e9a26b5",
   "metadata": {},
   "outputs": [],
   "source": []
  }
 ],
 "metadata": {
  "kernelspec": {
   "display_name": "Python 3 (ipykernel)",
   "language": "python",
   "name": "python3"
  },
  "language_info": {
   "codemirror_mode": {
    "name": "ipython",
    "version": 3
   },
   "file_extension": ".py",
   "mimetype": "text/x-python",
   "name": "python",
   "nbconvert_exporter": "python",
   "pygments_lexer": "ipython3",
   "version": "3.11.3"
  }
 },
 "nbformat": 4,
 "nbformat_minor": 5
}
